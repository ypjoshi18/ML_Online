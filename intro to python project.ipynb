{
 "cells": [
  {
   "cell_type": "code",
   "execution_count": 1,
   "metadata": {},
   "outputs": [
    {
     "name": "stdout",
     "output_type": "stream",
     "text": [
      "Enter a number between 1 to 20 only6\n",
      "Please guess above 10 \n",
      "Enter a number between 1 to 20 only14\n",
      "Please guess below 10 \n",
      "Enter a number between 1 to 20 only8\n",
      "Please guess above 10 \n",
      "Enter a number between 1 to 20 only10\n",
      "Please guess above 10 \n",
      "You Guessed it RIGHT\n",
      "No of chances you have required: 4\n",
      "You have entered:  [6, 14, 8, 10]\n",
      "\n"
     ]
    }
   ],
   "source": [
    "i = 0 \n",
    "list1 = [] \n",
    "for i in range (1,10) :\n",
    "    user_input = int(input(\"Enter a number between 1 to 20 only\"))\n",
    "    list1.append(user_input)\n",
    "    rand = 10\n",
    "    List = [0,1,2,3,4,5,6,7,8,9,10,11,12,13,14,15,16,17,18,19,20]\n",
    "    if user_input in List:\n",
    "        if user_input > 10 :\n",
    "            print(\"Please guess a higher number \")\n",
    "            \n",
    "        if user_input < 10 :\n",
    "            print(\"Please guess a lower number \")\n",
    "            \n",
    "        if user_input == 10 :\n",
    "            print(\"You Guessed it RIGHT\")\n",
    "            print(\"No of chances you have required:\" ,i)\n",
    "            print(\"You have entered: \" , list1)\n",
    "            print()\n",
    "            break"
   ]
  }
 ],
 "metadata": {
  "kernelspec": {
   "display_name": "Python 3",
   "language": "python",
   "name": "python3"
  },
  "language_info": {
   "codemirror_mode": {
    "name": "ipython",
    "version": 3
   },
   "file_extension": ".py",
   "mimetype": "text/x-python",
   "name": "python",
   "nbconvert_exporter": "python",
   "pygments_lexer": "ipython3",
   "version": "3.7.3"
  }
 },
 "nbformat": 4,
 "nbformat_minor": 2
}
